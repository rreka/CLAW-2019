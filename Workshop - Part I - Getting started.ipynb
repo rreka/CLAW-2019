{
 "cells": [
  {
   "cell_type": "markdown",
   "metadata": {},
   "source": [
    "# Use Data Science and APIs to Support Your Collections Work\n",
    "\n",
    "# Part I: Getting Started\n",
    "\n",
    "Welcome to this workshop on using basic data science skills, and data from the tools that many of our libraries already subscribe to, to support your collections work!\n",
    "\n",
    "### The plan\n",
    "We're going to work with Python, and do this entire workshop within this Jupyter Notebook. The intended audience for this workshop is the librarian with no programming skills. In this three-hour workshop, we will:\n",
    "* [set-up a Jupyter Notebook environment, and get oriented](#Jupyter-Notebook)(Part I)\n",
    "* [a crash-course on programming in Python](#A-crash-course-in-Python) (Part I)\n",
    "* querying the Scopus API to get data, and import it into pandas (Part II)\n",
    "* data analysis and manipulation using pandas (Part II)\n",
    "* use Python to access a library link resolver (Part II)\n",
    "\n",
    "### Acknowledgments, credits and copyright\n",
    "This workshop was developed by Roger Reka (University of Windsor) for the 2019 Canadian Library Assessment Workshop. This material is licensed under a [Creative Commons CC-BY 4.0 license](https://creativecommons.org/licenses/by/4.0/); you are free to re-use this material and/or adapt it for your own needs.\n",
    "\n",
    "Some of the material in this workshop, specifically for the Python introduction section, is adapted from the Data Carpentry [*Data Analysis and Visualization in Python for Ecologists*](https://datacarpentry.org/python-ecology-lesson/) lesson, which is also licensed with a CC-BY license.\n",
    "\n",
    "This workshop is loosely based on an ongoing project of mine to create tools to automate collections assessment. Find the [project on GitHub](https://github.com/rreka/Automating-collections-assessment).\n",
    "\n",
    "We are making use of bibliographic data from Elsevier's Scopus database. We will access the Scopus database using an API, in accordance with the terms and conditions of the API service. All data remains the property of Elsevier.\n",
    "\n",
    "Finally, we will be accessing the Scopus API using a [Python module called pybliometrics](https://pybliometrics.readthedocs.io/en/stable/) devoloped by Michael E. Ross and John R. Kitchin. pybliometrics makes accessing the API much easier in Python, and we thank Michael and John for developing this helpful tool."
   ]
  },
  {
   "cell_type": "markdown",
   "metadata": {},
   "source": [
    "***\n",
    "## Jupyter Notebook\n",
    "\n",
    "Jupyter Notebook is an **integrated development environment** (IDE) for Python and some other programming languages. While Python can be used straight from the terminal or command line, using an IDE gives us a working space with all the tools we need to write code. Jupyter Notebook is especially helpful because it visualizes data nicely for us, and allows us to add text to the code to make it easier to read in a workshop.\n",
    "\n",
    "There are many other IDEs for Python, and some other ones are included in the Anaconda distribution that you downloaded.\n",
    "\n",
    "### Cells\n",
    "Cells are the fields where we add our code or our text in Jupyter Notebook."
   ]
  },
  {
   "cell_type": "code",
   "execution_count": null,
   "metadata": {},
   "outputs": [],
   "source": [
    "# This is a cell in a Jupyter Notebook with a comment"
   ]
  },
  {
   "cell_type": "markdown",
   "metadata": {},
   "source": [
    "#### Running cells\n",
    "In order to run the code in a cell, simply select the cell and click on the **Run** button. \n",
    "\n",
    "Alternatively, you can use the shortcut `Control + Enter` or `Shift + Enter`.\n",
    "\n",
    "<img src=\"img/run-cell.png\"/>\n",
    "\n",
    "**You try!** Run the code in the cell below."
   ]
  },
  {
   "cell_type": "code",
   "execution_count": null,
   "metadata": {},
   "outputs": [],
   "source": [
    "print('Hello world!')"
   ]
  },
  {
   "cell_type": "markdown",
   "metadata": {},
   "source": [
    "#### Stop the cell \n",
    "Sometimes you may need to stop the code that you're executing. You may accidentally start an infinite loop, or run some code that takes too long to process. Simply press the **Stop** button to stop the code.\n",
    "\n",
    "Next to each cell there is a field `In [ ]:`. When Python has sucessfully executed the code in the cell, a number will be placed within the square brackets indicating what order the cell was executed in. When Python is processing the code, a `*` will appear in the square brackets.\n",
    "\n",
    "<img src=\"img/stop-cell.png\"/>\n",
    "\n",
    "**You try!** The code in the cell below is an infinite loop. Run the cell and then stop the cell."
   ]
  },
  {
   "cell_type": "code",
   "execution_count": null,
   "metadata": {},
   "outputs": [],
   "source": [
    "n = 1\n",
    "while True:\n",
    "    n = n + 1\n",
    "    print('hello' + str(n))"
   ]
  },
  {
   "cell_type": "markdown",
   "metadata": {},
   "source": [
    "***\n",
    "\n",
    "## A crash-course in Python\n",
    "\n",
    "### What is Python?\n",
    "\n",
    "Python is a high-level general purpose programming language. It is widely adopted in the world of software development, data analysis, and increasingly, in research. Python is one of the easiest programming languages to pick-up and start learning, and has relatively low barriers to entry.\n",
    "\n",
    "Python is: \n",
    "* Free\n",
    "* Open-source\n",
    "* Widely adopted with a large user community\n",
    "    * Lots of third-party packages\n",
    "* Supported on all operating systems"
   ]
  },
  {
   "cell_type": "markdown",
   "metadata": {},
   "source": [
    "### Getting help\n",
    "There are built-in features within Python to seek help as you're working.\n",
    "\n",
    "You can access the Python help menu by typing `help()`."
   ]
  },
  {
   "cell_type": "code",
   "execution_count": null,
   "metadata": {},
   "outputs": [],
   "source": [
    "help()"
   ]
  },
  {
   "cell_type": "markdown",
   "metadata": {},
   "source": [
    "You can also get specific information about an object or function by typing `?object` or `help(object)`."
   ]
  },
  {
   "cell_type": "code",
   "execution_count": null,
   "metadata": {},
   "outputs": [],
   "source": [
    "help(print)"
   ]
  },
  {
   "cell_type": "markdown",
   "metadata": {},
   "source": [
    "If you are stuck about something in Python, a generic Google search will often send you to some helpful information. The documentation for Python, for modules or questions by other coders can be found online. Just search for **\"Python <whatever task you're trying to do>\"**.\n",
    "\n",
    "Many answers can be found online on internet forums such as Stack Overflow."
   ]
  },
  {
   "cell_type": "markdown",
   "metadata": {},
   "source": [
    "### Learning more about Python\n",
    "You can learn more about programming in Python by attending a Software Carpentry workshop near you, or by taking an online course. There are many online courses to choose from to learn Python, but I recommend Code Academy and DataCamp. Both have free plans for the courses. "
   ]
  },
  {
   "cell_type": "markdown",
   "metadata": {},
   "source": [
    "### Python data types\n",
    "Everything in Python has a type. Understanding the type of data is important for working in Python.\n",
    "\n",
    "#### Numbers\n",
    "There are two types of numbers in Python: `int` and `float`. An `int` refers to a number that is an integer, while a `float` refers to a number that has a decimal point."
   ]
  },
  {
   "cell_type": "code",
   "execution_count": null,
   "metadata": {},
   "outputs": [],
   "source": [
    "13 # this is an int"
   ]
  },
  {
   "cell_type": "code",
   "execution_count": null,
   "metadata": {},
   "outputs": [],
   "source": [
    "3.14159 # is a float"
   ]
  },
  {
   "cell_type": "markdown",
   "metadata": {},
   "source": [
    "#### Strings\n",
    "Strings hold sequences of characters, which can be letters, numbers, punctuation or other forms of text. Strings must be bounded by quotation marks `'` or `\"`. A string is of type `str`."
   ]
  },
  {
   "cell_type": "code",
   "execution_count": null,
   "metadata": {},
   "outputs": [],
   "source": [
    "'Hello, this is a string' # a string"
   ]
  },
  {
   "cell_type": "code",
   "execution_count": null,
   "metadata": {},
   "outputs": [],
   "source": [
    "\"Me 2, I am also a string\" # a string that contains a number as a string."
   ]
  },
  {
   "cell_type": "markdown",
   "metadata": {},
   "source": [
    "#### Booleans\n",
    "`True` and `False` are boolean data types. "
   ]
  },
  {
   "cell_type": "code",
   "execution_count": null,
   "metadata": {},
   "outputs": [],
   "source": [
    "True # this is not a string, but rather a boolean type"
   ]
  },
  {
   "cell_type": "code",
   "execution_count": null,
   "metadata": {},
   "outputs": [],
   "source": [
    "False # this also is not a string; this is a boolean"
   ]
  },
  {
   "cell_type": "markdown",
   "metadata": {},
   "source": [
    "### Mathematic operations\n",
    "We can use Python as a simple calculator using the basic operators that we're all familiar with.\n",
    "<br>\n",
    "`+`: addition\n",
    "<br>\n",
    "`-`: subtraction \n",
    "<br>\n",
    "`/`: division\n",
    "<br>\n",
    "`*`: multiplication\n",
    "<br>\n",
    "`**`: exponentiation"
   ]
  },
  {
   "cell_type": "code",
   "execution_count": null,
   "metadata": {},
   "outputs": [],
   "source": [
    "2 + 2 # addition"
   ]
  },
  {
   "cell_type": "code",
   "execution_count": null,
   "metadata": {},
   "outputs": [],
   "source": [
    "2 - 2 # subtraction"
   ]
  },
  {
   "cell_type": "code",
   "execution_count": null,
   "metadata": {},
   "outputs": [],
   "source": [
    "41 / 22 # division"
   ]
  },
  {
   "cell_type": "code",
   "execution_count": null,
   "metadata": {},
   "outputs": [],
   "source": [
    "1121 * 238 # multiplication"
   ]
  },
  {
   "cell_type": "code",
   "execution_count": null,
   "metadata": {},
   "outputs": [],
   "source": [
    "2 ** 6 # exponentiation"
   ]
  },
  {
   "cell_type": "markdown",
   "metadata": {},
   "source": [
    "Python respects the order of operations (BEDMAS)."
   ]
  },
  {
   "cell_type": "code",
   "execution_count": null,
   "metadata": {},
   "outputs": [],
   "source": [
    "(10 - 5) * 3 + 5"
   ]
  },
  {
   "cell_type": "markdown",
   "metadata": {},
   "source": [
    "***\n",
    "<div class=\"alert alert-block alert-success\">\n",
    "<b>Challenge 1</b> \n",
    "</div>\n",
    "\n",
    "1. Practice working around in Python by using it as a calculator and doing some basic math. \n",
    "2. Combine the following strings together: `'hello'` and `'world'` using the math operators.\n",
    "3. So far we've been using the math operators on data of the same type. What happens when you use these operators on operators of **different** types (e.g., `str` and `int`, or `int` and `float`)?\n",
    "\n",
    "***"
   ]
  },
  {
   "cell_type": "code",
   "execution_count": null,
   "metadata": {},
   "outputs": [],
   "source": []
  },
  {
   "cell_type": "code",
   "execution_count": null,
   "metadata": {},
   "outputs": [],
   "source": []
  },
  {
   "cell_type": "code",
   "execution_count": null,
   "metadata": {},
   "outputs": [],
   "source": []
  },
  {
   "cell_type": "code",
   "execution_count": null,
   "metadata": {},
   "outputs": [],
   "source": []
  },
  {
   "cell_type": "code",
   "execution_count": null,
   "metadata": {},
   "outputs": [],
   "source": []
  },
  {
   "cell_type": "markdown",
   "metadata": {},
   "source": [
    "### Comparison and logical operators\n",
    "We can also use comparison and logical operators on our data. This will return a boolean.\n",
    "\n",
    "#### Comparison operators\n",
    "`<`: less than\n",
    "<br>\n",
    "`>`: greater than\n",
    "<br>\n",
    "`==`: equal\n",
    "<br>\n",
    "`!=`: not equal\n",
    "<br>\n",
    "`<=`: less than or equal to\n",
    "<br>\n",
    "`>=`: greater than or equal to\n",
    "\n",
    "#### Logical operators\n",
    "`and`: combines the two items\n",
    "<br>\n",
    "`or`: either of the two items\n",
    "<br>\n",
    "`not`: exlcude the second item"
   ]
  },
  {
   "cell_type": "code",
   "execution_count": null,
   "metadata": {},
   "outputs": [],
   "source": [
    "3 > 4"
   ]
  },
  {
   "cell_type": "code",
   "execution_count": null,
   "metadata": {},
   "outputs": [],
   "source": [
    "3 < 4"
   ]
  },
  {
   "cell_type": "code",
   "execution_count": null,
   "metadata": {},
   "outputs": [],
   "source": [
    "3 == 4"
   ]
  },
  {
   "cell_type": "code",
   "execution_count": null,
   "metadata": {},
   "outputs": [],
   "source": [
    "3 != 4"
   ]
  },
  {
   "cell_type": "code",
   "execution_count": null,
   "metadata": {
    "scrolled": true
   },
   "outputs": [],
   "source": [
    "(10 + 5) <= 30"
   ]
  },
  {
   "cell_type": "code",
   "execution_count": null,
   "metadata": {},
   "outputs": [],
   "source": [
    "(6-3) < (9+10)"
   ]
  },
  {
   "cell_type": "code",
   "execution_count": null,
   "metadata": {},
   "outputs": [],
   "source": [
    "True and True"
   ]
  },
  {
   "cell_type": "code",
   "execution_count": null,
   "metadata": {},
   "outputs": [],
   "source": [
    "True or False"
   ]
  },
  {
   "cell_type": "code",
   "execution_count": null,
   "metadata": {
    "scrolled": false
   },
   "outputs": [],
   "source": [
    "True and False"
   ]
  },
  {
   "cell_type": "code",
   "execution_count": null,
   "metadata": {
    "scrolled": true
   },
   "outputs": [],
   "source": [
    "(10 < 3) and (6 > 2)"
   ]
  },
  {
   "cell_type": "markdown",
   "metadata": {},
   "source": [
    "### Variables & objects\n",
    "Inputing our data straight into Python is useful, but this is not the way that we usually do things in Python. We will almost always create objects and **assign** the data to them. We do so by using the assignment operator `=`. Note that the assignment operator is different than the equal operator `==`.\n",
    "\n",
    "Variable names contain text, and cannot begin with a number. There can be no spaces in a variable name, so we can use underscores or title case when we have multiple words in a variable name.\n",
    "\n",
    "The variable is the text name of the object. The object is the data itself."
   ]
  },
  {
   "cell_type": "code",
   "execution_count": null,
   "metadata": {},
   "outputs": [],
   "source": [
    "some_text = \"This is my text!\" # assigning some string data to the variable 'some_text'"
   ]
  },
  {
   "cell_type": "markdown",
   "metadata": {},
   "source": [
    "Notice that after we assign data to a variable, that there is no output from Python. We must call the variable again to see the data. We can do this in two ways: we can simply write the name of the variable, or when working within scripts, we must `print()` the variable to see the data."
   ]
  },
  {
   "cell_type": "code",
   "execution_count": null,
   "metadata": {},
   "outputs": [],
   "source": [
    "some_text # call the variable "
   ]
  },
  {
   "cell_type": "code",
   "execution_count": null,
   "metadata": {},
   "outputs": [],
   "source": [
    "print(some_text) # using the print() function to print out the data in the variable."
   ]
  },
  {
   "cell_type": "code",
   "execution_count": null,
   "metadata": {},
   "outputs": [],
   "source": [
    "number = 40 # create & assign a variable\n",
    "number # call the variable"
   ]
  },
  {
   "cell_type": "code",
   "execution_count": null,
   "metadata": {},
   "outputs": [],
   "source": [
    "pi_value = 3.14159 # assigning a float to a variable"
   ]
  },
  {
   "cell_type": "markdown",
   "metadata": {},
   "source": [
    "We check to see what type the variable is by using the built-in function `type()`."
   ]
  },
  {
   "cell_type": "code",
   "execution_count": null,
   "metadata": {},
   "outputs": [],
   "source": [
    "type(some_text)"
   ]
  },
  {
   "cell_type": "code",
   "execution_count": null,
   "metadata": {},
   "outputs": [],
   "source": [
    "type(number)"
   ]
  },
  {
   "cell_type": "code",
   "execution_count": null,
   "metadata": {},
   "outputs": [],
   "source": [
    "type(pi_value)"
   ]
  },
  {
   "cell_type": "markdown",
   "metadata": {},
   "source": [
    "We can also use mathematical operators on variables, just like we did with just the data earlier."
   ]
  },
  {
   "cell_type": "code",
   "execution_count": null,
   "metadata": {},
   "outputs": [],
   "source": [
    "number + pi_value"
   ]
  },
  {
   "cell_type": "code",
   "execution_count": null,
   "metadata": {},
   "outputs": [],
   "source": [
    "some_text + ' I make the best sentences.'"
   ]
  },
  {
   "cell_type": "code",
   "execution_count": null,
   "metadata": {},
   "outputs": [],
   "source": [
    "number + some_text"
   ]
  },
  {
   "cell_type": "markdown",
   "metadata": {},
   "source": [
    "### Data structures: lists, tuples, and dictionaries\n",
    "We often want to store a sequence of data, as opposed to a single piece of data. Lists, tuples and dictionaries are some of the most common data structures in Python.\n",
    "\n",
    "#### Lists\n",
    "Lists store ordered data of a single type. Lists can be differentiated by the use of square brackets `[ ]`."
   ]
  },
  {
   "cell_type": "code",
   "execution_count": null,
   "metadata": {},
   "outputs": [],
   "source": [
    "empty_list = [] # creating an empty list\n",
    "empty_list"
   ]
  },
  {
   "cell_type": "code",
   "execution_count": null,
   "metadata": {},
   "outputs": [],
   "source": [
    "type(empty_list)"
   ]
  },
  {
   "cell_type": "code",
   "execution_count": null,
   "metadata": {},
   "outputs": [],
   "source": [
    "numbers = [1, 2, 3, 4]\n",
    "numbers"
   ]
  },
  {
   "cell_type": "code",
   "execution_count": null,
   "metadata": {},
   "outputs": [],
   "source": [
    "letters = ['a', 'b', 'c', 'd', 'e']\n",
    "letters"
   ]
  },
  {
   "cell_type": "markdown",
   "metadata": {},
   "source": [
    "We can even create a lists of lists."
   ]
  },
  {
   "cell_type": "code",
   "execution_count": null,
   "metadata": {},
   "outputs": [],
   "source": [
    "many_lists = [[2, 4, 6], [1, 2, 3]]\n",
    "many_lists"
   ]
  },
  {
   "cell_type": "markdown",
   "metadata": {},
   "source": [
    "We can **subset** specific data from a list by knowing its **index**, or place in the list. In Python, numbering for indexes begins at 0 and ends at -1.\n",
    "\n",
    "` ['a', 'b', 'c', 'd', 'e']\n",
    "   0    1    2    3    4\n",
    "`\n",
    "\n",
    "In order to subset a piece of data, we call the variable name, add square brackets next to the name, and enter the index of the data we're interested in."
   ]
  },
  {
   "cell_type": "code",
   "execution_count": null,
   "metadata": {},
   "outputs": [],
   "source": [
    "letters[0]"
   ]
  },
  {
   "cell_type": "code",
   "execution_count": null,
   "metadata": {},
   "outputs": [],
   "source": [
    "letters[4]"
   ]
  },
  {
   "cell_type": "code",
   "execution_count": null,
   "metadata": {},
   "outputs": [],
   "source": [
    "letters[-1]"
   ]
  },
  {
   "cell_type": "code",
   "execution_count": null,
   "metadata": {},
   "outputs": [],
   "source": [
    "letters[0:2]"
   ]
  },
  {
   "cell_type": "code",
   "execution_count": null,
   "metadata": {
    "scrolled": true
   },
   "outputs": [],
   "source": [
    "letters[2:]"
   ]
  },
  {
   "cell_type": "code",
   "execution_count": null,
   "metadata": {},
   "outputs": [],
   "source": [
    "many_lists[1][2]"
   ]
  },
  {
   "cell_type": "markdown",
   "metadata": {},
   "source": [
    "We can add elements to the end of the list using the `append` method. A method is a type of built-in function that acts on an object, like a variable. We call the method by using a period `.` followed by the method name and the arguments in the parentheses."
   ]
  },
  {
   "cell_type": "code",
   "execution_count": null,
   "metadata": {
    "scrolled": true
   },
   "outputs": [],
   "source": [
    "numbers"
   ]
  },
  {
   "cell_type": "code",
   "execution_count": null,
   "metadata": {},
   "outputs": [],
   "source": [
    "numbers.append(5)"
   ]
  },
  {
   "cell_type": "code",
   "execution_count": null,
   "metadata": {},
   "outputs": [],
   "source": [
    "numbers"
   ]
  },
  {
   "cell_type": "markdown",
   "metadata": {},
   "source": [
    "A helpful function to use with lists, tuples and dictionaries is `len()`. Use `len()` to describe the length of a sequence, such as lists."
   ]
  },
  {
   "cell_type": "code",
   "execution_count": null,
   "metadata": {},
   "outputs": [],
   "source": [
    "len(numbers)"
   ]
  },
  {
   "cell_type": "markdown",
   "metadata": {},
   "source": [
    "We can also get to all of the data in a list by creating a `for` loop. A `for` loop is one of the more common programming tasks that we do in Python, and we'll use it often in our work. A `for` loop iterates over every item in the sequence."
   ]
  },
  {
   "cell_type": "code",
   "execution_count": null,
   "metadata": {
    "scrolled": true
   },
   "outputs": [],
   "source": [
    "for number in numbers:\n",
    "    print(number)"
   ]
  },
  {
   "cell_type": "code",
   "execution_count": null,
   "metadata": {},
   "outputs": [],
   "source": [
    "for n in numbers:\n",
    "    print(n + 10)"
   ]
  },
  {
   "cell_type": "markdown",
   "metadata": {},
   "source": [
    "#### Tuples\n",
    "Tuples are also ordered sequences of data, like lists, but they can contain data of different types and can't be changed once created.\n",
    "\n",
    "Tuples can be differentiated by the use of parantheses `( )`."
   ]
  },
  {
   "cell_type": "code",
   "execution_count": null,
   "metadata": {},
   "outputs": [],
   "source": [
    "colours = ('red', 'green', 'blue', 'yellow')\n",
    "colours"
   ]
  },
  {
   "cell_type": "code",
   "execution_count": null,
   "metadata": {},
   "outputs": [],
   "source": [
    "colours[1]"
   ]
  },
  {
   "cell_type": "code",
   "execution_count": null,
   "metadata": {},
   "outputs": [],
   "source": [
    "for colour in colours:\n",
    "    print(colour + ' is a nice colour.' )"
   ]
  },
  {
   "cell_type": "markdown",
   "metadata": {},
   "source": [
    "You can also subset tuples, like lists, by passing the index of the data that you'd like to retrieve in square brackets `[ ]`."
   ]
  },
  {
   "cell_type": "markdown",
   "metadata": {},
   "source": [
    "***\n",
    "<div class=\"alert alert-block alert-success\">\n",
    "<b>Challenge 2</b> \n",
    "</div>\n",
    "\n",
    "1. Create a list with at least 8 numbers.\n",
    "2. Use a `for` loop to print out all the numbers in the list.\n",
    "3. Create a tuple that contains both strings and numbers.\n",
    "4. What happens when you execute `numbers[1] = 100`?\n",
    "5. What happens when you execute `colours[0] = 'pink'`?\n",
    "***"
   ]
  },
  {
   "cell_type": "code",
   "execution_count": null,
   "metadata": {},
   "outputs": [],
   "source": []
  },
  {
   "cell_type": "code",
   "execution_count": null,
   "metadata": {},
   "outputs": [],
   "source": []
  },
  {
   "cell_type": "code",
   "execution_count": null,
   "metadata": {},
   "outputs": [],
   "source": []
  },
  {
   "cell_type": "code",
   "execution_count": null,
   "metadata": {},
   "outputs": [],
   "source": []
  },
  {
   "cell_type": "code",
   "execution_count": null,
   "metadata": {},
   "outputs": [],
   "source": []
  },
  {
   "cell_type": "markdown",
   "metadata": {},
   "source": [
    "#### Dictionaries\n",
    "Dictionaries are collections of **unordered data** that are arranged in key-value pairs."
   ]
  },
  {
   "cell_type": "code",
   "execution_count": null,
   "metadata": {},
   "outputs": [],
   "source": [
    "names = {\n",
    "    'Gordon': 'West',\n",
    "    'Saanvi': 'Roy',\n",
    "    'Faye': 'Philip',\n",
    "    'Israa': 'Faisal'\n",
    "}"
   ]
  },
  {
   "cell_type": "code",
   "execution_count": null,
   "metadata": {
    "scrolled": true
   },
   "outputs": [],
   "source": [
    "names"
   ]
  },
  {
   "cell_type": "code",
   "execution_count": null,
   "metadata": {},
   "outputs": [],
   "source": [
    "names[3]"
   ]
  },
  {
   "cell_type": "code",
   "execution_count": null,
   "metadata": {},
   "outputs": [],
   "source": [
    "names['Israa']"
   ]
  },
  {
   "cell_type": "markdown",
   "metadata": {},
   "source": [
    "We can add an item to a dictionary by specifying the new key and its value."
   ]
  },
  {
   "cell_type": "code",
   "execution_count": null,
   "metadata": {},
   "outputs": [],
   "source": [
    "names['Precious'] = 'Navarro'"
   ]
  },
  {
   "cell_type": "code",
   "execution_count": null,
   "metadata": {},
   "outputs": [],
   "source": [
    "names"
   ]
  },
  {
   "cell_type": "markdown",
   "metadata": {},
   "source": [
    "### Compound statements\n",
    "So far we've been working with individual statements, running them in one-off situations, such as:\n",
    "\n",
    "`print('hello world')`\n",
    "\n",
    "**Compound statements** contain one or more statements, and they control the execution of those other statements in some way. Usually, compound statements span multiple lines (though some can be contained in one line). The `if`, `while` and `for` statements are the traditional control compound statements that you'll encounter.\n",
    "\n",
    "#### `if` statements\n",
    "The `if` statement is used for conditional statements, such as:"
   ]
  },
  {
   "cell_type": "code",
   "execution_count": null,
   "metadata": {},
   "outputs": [],
   "source": [
    "x = 10 # assign a smaller number to x\n",
    "y = 20 # assign a bigger number to y\n",
    "\n",
    "if x < y: # if this condition is true...\n",
    "    print(x) # do this action"
   ]
  },
  {
   "cell_type": "markdown",
   "metadata": {},
   "source": [
    "It usually operates by evaluating the expressions one-by-one until one is found to be true. We can add more conditional statements with `elif` and `else`. \n",
    "\n",
    "`elif` is short for \"else if\", and is used to pass another conditional.\n",
    "\n",
    "`else` is used at the end of a line of conditionals, to express what must happen if every other condition is false."
   ]
  },
  {
   "cell_type": "code",
   "execution_count": null,
   "metadata": {
    "scrolled": true
   },
   "outputs": [],
   "source": [
    "x = 50\n",
    "\n",
    "if x < 10:\n",
    "    print('The number is less than 10')\n",
    "    \n",
    "elif 10 < x < 40:\n",
    "    print('The number is between 10 and 40')\n",
    "\n",
    "else:\n",
    "    print('The number is greater than or equal to 40')"
   ]
  },
  {
   "cell_type": "markdown",
   "metadata": {},
   "source": [
    "#### `while` statements\n",
    "The `while` statement is used for repeated execution as long as an expression is true."
   ]
  },
  {
   "cell_type": "code",
   "execution_count": null,
   "metadata": {},
   "outputs": [],
   "source": [
    "x = 0\n",
    "\n",
    "while x < 15:\n",
    "    x = x + 1\n",
    "    print(x)"
   ]
  },
  {
   "cell_type": "markdown",
   "metadata": {},
   "source": [
    "#### `for` statements\n",
    "The `for` statement is used to iterate over the elements of a sequence (such as a string, tuple or list) or other iterable object."
   ]
  },
  {
   "cell_type": "code",
   "execution_count": null,
   "metadata": {},
   "outputs": [],
   "source": [
    "numbers"
   ]
  },
  {
   "cell_type": "code",
   "execution_count": null,
   "metadata": {},
   "outputs": [],
   "source": [
    "for n in numbers:\n",
    "    print(n)"
   ]
  },
  {
   "cell_type": "markdown",
   "metadata": {},
   "source": [
    "***\n",
    "<div class=\"alert alert-block alert-success\">\n",
    "<b>Challenge 3</b> \n",
    "</div>\n",
    "\n",
    "Another math operator that we didn't mention before is the modulo operator `%`. Modulo is used to get the remainder of a division. For example:\n",
    "\n",
    "<code>>>> 4%2 \n",
    "0</code>\n",
    "\n",
    "<code>>>> 5%2 \n",
    "1</code>\n",
    "\n",
    "\n",
    "1. Fill out the code below to create a program that can decide if the numbers in the `collection` list are even or odd. Hint: you'll need to use the modulo operator, and use two of the conditional statements above!"
   ]
  },
  {
   "cell_type": "code",
   "execution_count": null,
   "metadata": {},
   "outputs": [],
   "source": [
    "collection = [1, 2, 3, 4, 5, 6, 7, 8, 9, 10]"
   ]
  },
  {
   "cell_type": "code",
   "execution_count": null,
   "metadata": {
    "scrolled": true
   },
   "outputs": [],
   "source": [
    "for _______ in __________:\n",
    "    ___________________:\n",
    "        print(str(___) + ' is an even number')\n",
    "    _____:\n",
    "        print(str(___) + ' is an odd number')"
   ]
  },
  {
   "cell_type": "markdown",
   "metadata": {},
   "source": [
    "***"
   ]
  },
  {
   "cell_type": "markdown",
   "metadata": {},
   "source": [
    "### Functions\n",
    "For the most part, we've been writing the code manually so far. Functions are pieces of code that are saved and given a name, so that we can use them again later. Many functions come built-in with Python, but we can get other functions by downloading third-party modules, or even by defining them ourselves (more on that later).\n",
    "\n",
    "Functions contain three main parts:\n",
    "\n",
    "> **Function name**: The name of the function, so that we know how to call it. For example, we've been using the `print()` and `help()` functions. The names of these functions are 'name' and 'help', respectively.\n",
    "\n",
    "> **Arguments**: Arguments are the variables that we can give the function in order to tell the function how to work. Arguments go into the parantheses `( )` of the function. Some functions require no arguments, while some functions require some. \n",
    "<br>\n",
    "To find out what the arguments you need to pass the function are, you can look at the help documentation for the function.\n",
    "\n",
    "> **Return value**: Functions return some sort of output, though it may not always be printed to the screen; it may be stored in memory.\n",
    "\n",
    "Let's take a closer look at the `print()` function that we've been using. Obviously, the function name of `print()` is 'print'. We call the function by writing this word in the command line.\n",
    "\n",
    "What arguments can `print()` take?"
   ]
  },
  {
   "cell_type": "code",
   "execution_count": null,
   "metadata": {},
   "outputs": [],
   "source": [
    "?print "
   ]
  },
  {
   "cell_type": "markdown",
   "metadata": {},
   "source": [
    "The documentation for the `print()` function provides us with this information about the arguments. The arguments are separated by commas:\n",
    "\n",
    "`print(value, ..., sep=' ', end='\\n', file=sys.stdout, flush=False)`\n",
    "\n",
    "> `value` is the value that we're trying to print\n",
    "\n",
    "> `...` means that we can repeat the preceding argument as needed. In this case, we can print more than one value as long as we separate them by commas.\n",
    "\n",
    "> `sep=' '` is the string that is inserted between values; in this case, the default is a space character.\n",
    "\n",
    "And so on...\n"
   ]
  },
  {
   "cell_type": "code",
   "execution_count": null,
   "metadata": {},
   "outputs": [],
   "source": [
    "print('This', 'sentence', 'will', 'be', 'separated', 'by', 'underscores', sep=\"_\")"
   ]
  },
  {
   "cell_type": "markdown",
   "metadata": {},
   "source": [
    "#### Methods\n",
    "Methods are a type of functions. They differ from regular functions because methods are associated with a particular object. Methods are 'tacked-on' to the end of the object to which it is operating on. Methods can also take arguments in the parantheses.\n",
    "\n",
    "We've already used methods earlier when we used the `.append()` method on a list."
   ]
  },
  {
   "cell_type": "code",
   "execution_count": null,
   "metadata": {},
   "outputs": [],
   "source": [
    "fruit = ['apple', 'banana', 'cherry']"
   ]
  },
  {
   "cell_type": "code",
   "execution_count": null,
   "metadata": {},
   "outputs": [],
   "source": [
    "fruit.append('orange')"
   ]
  },
  {
   "cell_type": "code",
   "execution_count": null,
   "metadata": {},
   "outputs": [],
   "source": [
    "fruit"
   ]
  },
  {
   "cell_type": "markdown",
   "metadata": {},
   "source": [
    "There are [many other methods](https://www.w3schools.com/python/python_ref_list.asp) that we can use with lists, that will be helpful for data analysis later on."
   ]
  },
  {
   "cell_type": "code",
   "execution_count": null,
   "metadata": {},
   "outputs": [],
   "source": [
    "copy_of_fruit = fruit.copy()"
   ]
  },
  {
   "cell_type": "code",
   "execution_count": null,
   "metadata": {},
   "outputs": [],
   "source": [
    "copy_of_fruit"
   ]
  },
  {
   "cell_type": "code",
   "execution_count": null,
   "metadata": {},
   "outputs": [],
   "source": [
    "fruit.extend(copy_of_fruit)"
   ]
  },
  {
   "cell_type": "code",
   "execution_count": null,
   "metadata": {},
   "outputs": [],
   "source": [
    "fruit"
   ]
  },
  {
   "cell_type": "code",
   "execution_count": null,
   "metadata": {},
   "outputs": [],
   "source": [
    "fruit.count('banana')"
   ]
  },
  {
   "cell_type": "code",
   "execution_count": null,
   "metadata": {
    "scrolled": false
   },
   "outputs": [],
   "source": [
    "fruit.index('cherry')"
   ]
  },
  {
   "cell_type": "code",
   "execution_count": null,
   "metadata": {
    "scrolled": true
   },
   "outputs": [],
   "source": [
    "fruit.pop(2)"
   ]
  },
  {
   "cell_type": "code",
   "execution_count": null,
   "metadata": {},
   "outputs": [],
   "source": [
    "fruit"
   ]
  },
  {
   "cell_type": "code",
   "execution_count": null,
   "metadata": {},
   "outputs": [],
   "source": [
    "fruit.remove('apple')"
   ]
  },
  {
   "cell_type": "code",
   "execution_count": null,
   "metadata": {},
   "outputs": [],
   "source": [
    "fruit"
   ]
  },
  {
   "cell_type": "code",
   "execution_count": null,
   "metadata": {},
   "outputs": [],
   "source": [
    "fruit.clear()"
   ]
  },
  {
   "cell_type": "code",
   "execution_count": null,
   "metadata": {},
   "outputs": [],
   "source": [
    "fruit"
   ]
  },
  {
   "cell_type": "markdown",
   "metadata": {},
   "source": [
    "### User-defined functions\n",
    "In addition to functions and methods that are built-in or that come from third-party modules, we will at times want to define our own functions. We do this when we write some code that we want to re-use over and over.\n",
    "\n",
    "A user-defined function contains the same three main parts as other functions: a **function name**, **arguments** and a **return value**.\n",
    "\n",
    "To create a user-defined function, we begin with the `def` statement. After the `def` statement, we write our function's name, and then in parantheses, we specify the arguments, followed by a `:`.\n",
    "\n",
    "The body of the function contains the code that we are saving in the function. We must end the code by returning some value with `return`. \n",
    "\n",
    "Let's put this into practice by writing function that takes two numbers, and adds them together."
   ]
  },
  {
   "cell_type": "code",
   "execution_count": null,
   "metadata": {},
   "outputs": [],
   "source": [
    "def my_calculator(x, y): \n",
    "    answer = x + y   # add two numbers (x, y) and assign the sum to the 'answer' variable\n",
    "    return answer    # return 'answer'"
   ]
  },
  {
   "cell_type": "code",
   "execution_count": null,
   "metadata": {},
   "outputs": [],
   "source": [
    "print(my_calculator(20, 43))"
   ]
  },
  {
   "cell_type": "markdown",
   "metadata": {},
   "source": [
    "***\n",
    "<div class=\"alert alert-block alert-success\">\n",
    "<b>Challenge 4</b> \n",
    "</div>\n",
    "\n",
    "1. Write a function that finds the max of two numbers and returns the max number. Call that function in a new row to show that it works.\n",
    "\n",
    "***"
   ]
  },
  {
   "cell_type": "code",
   "execution_count": null,
   "metadata": {},
   "outputs": [],
   "source": []
  }
 ],
 "metadata": {
  "kernelspec": {
   "display_name": "Python 3",
   "language": "python",
   "name": "python3"
  },
  "language_info": {
   "codemirror_mode": {
    "name": "ipython",
    "version": 3
   },
   "file_extension": ".py",
   "mimetype": "text/x-python",
   "name": "python",
   "nbconvert_exporter": "python",
   "pygments_lexer": "ipython3",
   "version": "3.7.3"
  }
 },
 "nbformat": 4,
 "nbformat_minor": 2
}
