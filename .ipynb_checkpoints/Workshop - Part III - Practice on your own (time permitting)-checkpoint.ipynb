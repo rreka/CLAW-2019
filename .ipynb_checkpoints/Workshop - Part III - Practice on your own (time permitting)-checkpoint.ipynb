{
 "cells": [
  {
   "cell_type": "markdown",
   "metadata": {},
   "source": [
    "# Use Data Science and APIs to Support Your Collections Work\n",
    "\n",
    "# Part III: Practice Notebook: On your own\n",
    "\n",
    "Now that we've completed the workshop, you have some time do this apply what you've learned on you own.\n",
    "\n",
    "I've set up this Jupyter Notebook to import the required modules/libraries, and have defined the functions that we created in Part II to query the UWindsor link resolver. \n",
    "\n",
    "Use this Jupyter Notebook to create a Scopus API request of your own, create a DataFrame to keep this data, clean-up, organize and manipulate the dataset in pandas, and run link resolver queries with the UWindsor OpenURL link resolver."
   ]
  },
  {
   "cell_type": "code",
   "execution_count": null,
   "metadata": {},
   "outputs": [],
   "source": [
    "# import all the required modules and libraries\n",
    "\n",
    "from pybliometrics.scopus import ScopusSearch   # Scopus Search API wrapper\n",
    "from pybliometrics.scopus import AbstractRetrieval   # Scopus Abstract Retrieval API wrapper\n",
    "\n",
    "import pandas as pd   # library to work with data\n",
    "\n",
    "import requests   # to send HTTP requests (required by the user-defined link resolver functions)\n",
    "import xml.etree.ElementTree as ElementTree   # to parse XML (required by the user-defined link resolver functions)\n",
    "import re   # to prase XML (required by the user-defined link resolver functions)"
   ]
  },
  {
   "cell_type": "code",
   "execution_count": null,
   "metadata": {},
   "outputs": [],
   "source": []
  },
  {
   "cell_type": "code",
   "execution_count": null,
   "metadata": {},
   "outputs": [],
   "source": []
  },
  {
   "cell_type": "code",
   "execution_count": null,
   "metadata": {},
   "outputs": [],
   "source": []
  }
 ],
 "metadata": {
  "kernelspec": {
   "display_name": "Python 3",
   "language": "python",
   "name": "python3"
  },
  "language_info": {
   "codemirror_mode": {
    "name": "ipython",
    "version": 3
   },
   "file_extension": ".py",
   "mimetype": "text/x-python",
   "name": "python",
   "nbconvert_exporter": "python",
   "pygments_lexer": "ipython3",
   "version": "3.7.3"
  }
 },
 "nbformat": 4,
 "nbformat_minor": 2
}
